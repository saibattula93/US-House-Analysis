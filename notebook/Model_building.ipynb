{
 "cells": [
  {
   "cell_type": "code",
   "execution_count": 3,
   "metadata": {},
   "outputs": [],
   "source": [
    "import pandas as pd"
   ]
  },
  {
   "cell_type": "code",
   "execution_count": 8,
   "metadata": {},
   "outputs": [],
   "source": [
    "df = pd.read_csv(r\"C:\\US-House-Analysis\\notebook\\data\\US_House_Price_Model_Building.csv\")"
   ]
  },
  {
   "cell_type": "code",
   "execution_count": 9,
   "metadata": {},
   "outputs": [
    {
     "data": {
      "text/html": [
       "<div>\n",
       "<style scoped>\n",
       "    .dataframe tbody tr th:only-of-type {\n",
       "        vertical-align: middle;\n",
       "    }\n",
       "\n",
       "    .dataframe tbody tr th {\n",
       "        vertical-align: top;\n",
       "    }\n",
       "\n",
       "    .dataframe thead th {\n",
       "        text-align: right;\n",
       "    }\n",
       "</style>\n",
       "<table border=\"1\" class=\"dataframe\">\n",
       "  <thead>\n",
       "    <tr style=\"text-align: right;\">\n",
       "      <th></th>\n",
       "      <th>State</th>\n",
       "      <th>Housing_Inventory</th>\n",
       "      <th>Construction_Costs</th>\n",
       "      <th>Land_Availability</th>\n",
       "      <th>Interest_Rates</th>\n",
       "      <th>Economic_Conditions</th>\n",
       "      <th>Population_Growth</th>\n",
       "      <th>Consumer_Confidence</th>\n",
       "      <th>Demographic_Trends</th>\n",
       "      <th>Location_&amp;_Amenities</th>\n",
       "      <th>House_Price_($)</th>\n",
       "      <th>House_Area_(sqft)</th>\n",
       "    </tr>\n",
       "  </thead>\n",
       "  <tbody>\n",
       "    <tr>\n",
       "      <th>0</th>\n",
       "      <td>Georgia</td>\n",
       "      <td>131832</td>\n",
       "      <td>104114</td>\n",
       "      <td>Abundant</td>\n",
       "      <td>3.29</td>\n",
       "      <td>Weak</td>\n",
       "      <td>1.05</td>\n",
       "      <td>Low</td>\n",
       "      <td>Millennial Buyers</td>\n",
       "      <td>Urban, Good Schools</td>\n",
       "      <td>244358</td>\n",
       "      <td>2763</td>\n",
       "    </tr>\n",
       "    <tr>\n",
       "      <th>1</th>\n",
       "      <td>Colorado</td>\n",
       "      <td>190652</td>\n",
       "      <td>147075</td>\n",
       "      <td>Abundant</td>\n",
       "      <td>4.81</td>\n",
       "      <td>Moderate</td>\n",
       "      <td>0.56</td>\n",
       "      <td>Low</td>\n",
       "      <td>Millennial Buyers</td>\n",
       "      <td>Urban, Good Schools</td>\n",
       "      <td>689121</td>\n",
       "      <td>1779</td>\n",
       "    </tr>\n",
       "    <tr>\n",
       "      <th>2</th>\n",
       "      <td>Maine</td>\n",
       "      <td>148790</td>\n",
       "      <td>120236</td>\n",
       "      <td>Abundant</td>\n",
       "      <td>5.60</td>\n",
       "      <td>Strong</td>\n",
       "      <td>0.79</td>\n",
       "      <td>High</td>\n",
       "      <td>Millennial Buyers</td>\n",
       "      <td>Urban, Good Schools</td>\n",
       "      <td>481104</td>\n",
       "      <td>2226</td>\n",
       "    </tr>\n",
       "    <tr>\n",
       "      <th>3</th>\n",
       "      <td>Washington</td>\n",
       "      <td>108619</td>\n",
       "      <td>197895</td>\n",
       "      <td>Limited</td>\n",
       "      <td>3.21</td>\n",
       "      <td>Strong</td>\n",
       "      <td>1.02</td>\n",
       "      <td>High</td>\n",
       "      <td>Millennial Buyers</td>\n",
       "      <td>Urban, Good Schools</td>\n",
       "      <td>244898</td>\n",
       "      <td>2722</td>\n",
       "    </tr>\n",
       "    <tr>\n",
       "      <th>4</th>\n",
       "      <td>Rhode Island</td>\n",
       "      <td>178383</td>\n",
       "      <td>184711</td>\n",
       "      <td>Limited</td>\n",
       "      <td>5.49</td>\n",
       "      <td>Strong</td>\n",
       "      <td>1.66</td>\n",
       "      <td>Low</td>\n",
       "      <td>Aging Population</td>\n",
       "      <td>Suburban, Transport</td>\n",
       "      <td>316555</td>\n",
       "      <td>3950</td>\n",
       "    </tr>\n",
       "  </tbody>\n",
       "</table>\n",
       "</div>"
      ],
      "text/plain": [
       "          State  Housing_Inventory  Construction_Costs Land_Availability  \\\n",
       "0       Georgia             131832              104114          Abundant   \n",
       "1      Colorado             190652              147075          Abundant   \n",
       "2         Maine             148790              120236          Abundant   \n",
       "3    Washington             108619              197895           Limited   \n",
       "4  Rhode Island             178383              184711           Limited   \n",
       "\n",
       "   Interest_Rates Economic_Conditions  Population_Growth Consumer_Confidence  \\\n",
       "0            3.29                Weak               1.05                 Low   \n",
       "1            4.81            Moderate               0.56                 Low   \n",
       "2            5.60              Strong               0.79                High   \n",
       "3            3.21              Strong               1.02                High   \n",
       "4            5.49              Strong               1.66                 Low   \n",
       "\n",
       "  Demographic_Trends Location_&_Amenities  House_Price_($)  House_Area_(sqft)  \n",
       "0  Millennial Buyers  Urban, Good Schools           244358               2763  \n",
       "1  Millennial Buyers  Urban, Good Schools           689121               1779  \n",
       "2  Millennial Buyers  Urban, Good Schools           481104               2226  \n",
       "3  Millennial Buyers  Urban, Good Schools           244898               2722  \n",
       "4   Aging Population  Suburban, Transport           316555               3950  "
      ]
     },
     "execution_count": 9,
     "metadata": {},
     "output_type": "execute_result"
    }
   ],
   "source": [
    "df.head()"
   ]
  },
  {
   "cell_type": "code",
   "execution_count": 11,
   "metadata": {},
   "outputs": [],
   "source": [
    "df1 = df.iloc[:1000, :]"
   ]
  },
  {
   "cell_type": "code",
   "execution_count": 12,
   "metadata": {},
   "outputs": [],
   "source": [
    "df1.to_csv(\"US_house.csv\",index=False)"
   ]
  },
  {
   "cell_type": "code",
   "execution_count": null,
   "metadata": {},
   "outputs": [],
   "source": []
  }
 ],
 "metadata": {
  "kernelspec": {
   "display_name": "Python 3",
   "language": "python",
   "name": "python3"
  },
  "language_info": {
   "codemirror_mode": {
    "name": "ipython",
    "version": 3
   },
   "file_extension": ".py",
   "mimetype": "text/x-python",
   "name": "python",
   "nbconvert_exporter": "python",
   "pygments_lexer": "ipython3",
   "version": "3.9.17"
  },
  "orig_nbformat": 4
 },
 "nbformat": 4,
 "nbformat_minor": 2
}
