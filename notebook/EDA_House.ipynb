{
 "cells": [
  {
   "cell_type": "markdown",
   "metadata": {},
   "source": [
    "# US Home Price Analysis\n",
    "### Life cycle of US Home Price Analysis Project\n",
    "* Understanding the Problem Statement\n",
    "* Data Collection\n",
    "* Data Checks to perform\n",
    "* Exploratory data analysis\n",
    "* Data Pre-Processing\n",
    "* Model Training\n",
    "* Choose best model\n",
    "#### 1) Problem statement\n",
    "* This project understands and the Find publicly available data for key **supply-demand** factors that influence US home prices nationally. Then, build a data science model that explains how these factors impacted home prices over the last 20 years.\n",
    "#### 2) Data Collection\n",
    "* The data consists of 13 column and 5000 rows.\n",
    "#### 2.1 Import Data and Required Packages\n",
    "**Importing Pandas, Numpy, Matplotlib, Seaborn and Warings Library.**"
   ]
  },
  {
   "cell_type": "code",
   "execution_count": 2,
   "metadata": {},
   "outputs": [],
   "source": [
    "import numpy as np\n",
    "import pandas as pd\n",
    "import seaborn as sns\n",
    "import matplotlib.pyplot as plt\n",
    "%matplotlib inline\n",
    "import warnings\n",
    "warnings.filterwarnings('ignore')"
   ]
  },
  {
   "cell_type": "markdown",
   "metadata": {},
   "source": [
    "#### Import the CSV Data as Pandas DataFrame"
   ]
  },
  {
   "cell_type": "code",
   "execution_count": 3,
   "metadata": {},
   "outputs": [],
   "source": [
    "df =pd.read_csv(r\"C:\\US-House-Analysis\\notebook\\data\\US_House_Price.csv\")"
   ]
  },
  {
   "cell_type": "markdown",
   "metadata": {},
   "source": [
    "#### Show Top 5 Records"
   ]
  },
  {
   "cell_type": "code",
   "execution_count": 11,
   "metadata": {},
   "outputs": [
    {
     "data": {
      "text/plain": [
       "Index(['Date', 'State', 'Land_Availability', 'Economic_Conditions',\n",
       "       'Consumer_Confidence', 'Demographic_Trends', 'Location', 'Amenities'],\n",
       "      dtype='object')"
      ]
     },
     "execution_count": 11,
     "metadata": {},
     "output_type": "execute_result"
    }
   ],
   "source": [
    "df.select_dtypes(include=\"object\").columns"
   ]
  },
  {
   "cell_type": "code",
   "execution_count": 4,
   "metadata": {},
   "outputs": [
    {
     "data": {
      "text/html": [
       "<div>\n",
       "<style scoped>\n",
       "    .dataframe tbody tr th:only-of-type {\n",
       "        vertical-align: middle;\n",
       "    }\n",
       "\n",
       "    .dataframe tbody tr th {\n",
       "        vertical-align: top;\n",
       "    }\n",
       "\n",
       "    .dataframe thead th {\n",
       "        text-align: right;\n",
       "    }\n",
       "</style>\n",
       "<table border=\"1\" class=\"dataframe\">\n",
       "  <thead>\n",
       "    <tr style=\"text-align: right;\">\n",
       "      <th></th>\n",
       "      <th>Date</th>\n",
       "      <th>State</th>\n",
       "      <th>Housing_Inventory</th>\n",
       "      <th>Construction_Costs</th>\n",
       "      <th>Land_Availability</th>\n",
       "      <th>Interest_Rates</th>\n",
       "      <th>Economic_Conditions</th>\n",
       "      <th>Population_Growth</th>\n",
       "      <th>Consumer_Confidence</th>\n",
       "      <th>Demographic_Trends</th>\n",
       "      <th>House_Price</th>\n",
       "      <th>House_Area_sqft</th>\n",
       "      <th>Location</th>\n",
       "      <th>Amenities</th>\n",
       "    </tr>\n",
       "  </thead>\n",
       "  <tbody>\n",
       "    <tr>\n",
       "      <th>0</th>\n",
       "      <td>01-01-2010</td>\n",
       "      <td>Pennsylvania</td>\n",
       "      <td>60777</td>\n",
       "      <td>172403</td>\n",
       "      <td>Abundant</td>\n",
       "      <td>4.08</td>\n",
       "      <td>Moderate</td>\n",
       "      <td>1.59</td>\n",
       "      <td>High</td>\n",
       "      <td>Aging Population</td>\n",
       "      <td>183909</td>\n",
       "      <td>2286</td>\n",
       "      <td>Urban</td>\n",
       "      <td>Good Schools</td>\n",
       "    </tr>\n",
       "    <tr>\n",
       "      <th>1</th>\n",
       "      <td>02-01-2010</td>\n",
       "      <td>Kentucky</td>\n",
       "      <td>133587</td>\n",
       "      <td>121940</td>\n",
       "      <td>Limited</td>\n",
       "      <td>5.75</td>\n",
       "      <td>Weak</td>\n",
       "      <td>1.27</td>\n",
       "      <td>High</td>\n",
       "      <td>Aging Population</td>\n",
       "      <td>320286</td>\n",
       "      <td>2222</td>\n",
       "      <td>Urban</td>\n",
       "      <td>Good Schools</td>\n",
       "    </tr>\n",
       "    <tr>\n",
       "      <th>2</th>\n",
       "      <td>03-01-2010</td>\n",
       "      <td>South Dakota</td>\n",
       "      <td>114584</td>\n",
       "      <td>177811</td>\n",
       "      <td>Abundant</td>\n",
       "      <td>4.46</td>\n",
       "      <td>Weak</td>\n",
       "      <td>1.79</td>\n",
       "      <td>Moderate</td>\n",
       "      <td>Millennial Buyers</td>\n",
       "      <td>774649</td>\n",
       "      <td>1709</td>\n",
       "      <td>Suburban</td>\n",
       "      <td>Transport</td>\n",
       "    </tr>\n",
       "    <tr>\n",
       "      <th>3</th>\n",
       "      <td>04-01-2010</td>\n",
       "      <td>Texas</td>\n",
       "      <td>73366</td>\n",
       "      <td>192099</td>\n",
       "      <td>Limited</td>\n",
       "      <td>3.28</td>\n",
       "      <td>Weak</td>\n",
       "      <td>1.78</td>\n",
       "      <td>Moderate</td>\n",
       "      <td>Millennial Buyers</td>\n",
       "      <td>300061</td>\n",
       "      <td>1001</td>\n",
       "      <td>Suburban</td>\n",
       "      <td>Transport</td>\n",
       "    </tr>\n",
       "    <tr>\n",
       "      <th>4</th>\n",
       "      <td>05-01-2010</td>\n",
       "      <td>Tennessee</td>\n",
       "      <td>105705</td>\n",
       "      <td>161045</td>\n",
       "      <td>Abundant</td>\n",
       "      <td>4.62</td>\n",
       "      <td>Moderate</td>\n",
       "      <td>1.58</td>\n",
       "      <td>Moderate</td>\n",
       "      <td>Aging Population</td>\n",
       "      <td>268774</td>\n",
       "      <td>2666</td>\n",
       "      <td>Suburban</td>\n",
       "      <td>Transport</td>\n",
       "    </tr>\n",
       "  </tbody>\n",
       "</table>\n",
       "</div>"
      ],
      "text/plain": [
       "         Date         State  Housing_Inventory  Construction_Costs  \\\n",
       "0  01-01-2010  Pennsylvania              60777              172403   \n",
       "1  02-01-2010      Kentucky             133587              121940   \n",
       "2  03-01-2010  South Dakota             114584              177811   \n",
       "3  04-01-2010         Texas              73366              192099   \n",
       "4  05-01-2010     Tennessee             105705              161045   \n",
       "\n",
       "  Land_Availability  Interest_Rates Economic_Conditions  Population_Growth  \\\n",
       "0          Abundant            4.08            Moderate               1.59   \n",
       "1           Limited            5.75                Weak               1.27   \n",
       "2          Abundant            4.46                Weak               1.79   \n",
       "3           Limited            3.28                Weak               1.78   \n",
       "4          Abundant            4.62            Moderate               1.58   \n",
       "\n",
       "  Consumer_Confidence Demographic_Trends  House_Price  House_Area_sqft  \\\n",
       "0                High   Aging Population       183909             2286   \n",
       "1                High   Aging Population       320286             2222   \n",
       "2            Moderate  Millennial Buyers       774649             1709   \n",
       "3            Moderate  Millennial Buyers       300061             1001   \n",
       "4            Moderate   Aging Population       268774             2666   \n",
       "\n",
       "   Location     Amenities  \n",
       "0     Urban  Good Schools  \n",
       "1     Urban  Good Schools  \n",
       "2  Suburban     Transport  \n",
       "3  Suburban     Transport  \n",
       "4  Suburban     Transport  "
      ]
     },
     "execution_count": 4,
     "metadata": {},
     "output_type": "execute_result"
    }
   ],
   "source": [
    "df.head(5)"
   ]
  },
  {
   "cell_type": "code",
   "execution_count": 5,
   "metadata": {},
   "outputs": [
    {
     "data": {
      "text/html": [
       "<div>\n",
       "<style scoped>\n",
       "    .dataframe tbody tr th:only-of-type {\n",
       "        vertical-align: middle;\n",
       "    }\n",
       "\n",
       "    .dataframe tbody tr th {\n",
       "        vertical-align: top;\n",
       "    }\n",
       "\n",
       "    .dataframe thead th {\n",
       "        text-align: right;\n",
       "    }\n",
       "</style>\n",
       "<table border=\"1\" class=\"dataframe\">\n",
       "  <thead>\n",
       "    <tr style=\"text-align: right;\">\n",
       "      <th></th>\n",
       "      <th>Housing_Inventory</th>\n",
       "      <th>Construction_Costs</th>\n",
       "      <th>Interest_Rates</th>\n",
       "      <th>Population_Growth</th>\n",
       "      <th>House_Price</th>\n",
       "      <th>House_Area_sqft</th>\n",
       "    </tr>\n",
       "  </thead>\n",
       "  <tbody>\n",
       "    <tr>\n",
       "      <th>count</th>\n",
       "      <td>5000.000000</td>\n",
       "      <td>5000.00000</td>\n",
       "      <td>5000.000000</td>\n",
       "      <td>5000.000000</td>\n",
       "      <td>5.000000e+03</td>\n",
       "      <td>5000.000000</td>\n",
       "    </tr>\n",
       "    <tr>\n",
       "      <th>mean</th>\n",
       "      <td>123569.872400</td>\n",
       "      <td>149417.91820</td>\n",
       "      <td>4.507358</td>\n",
       "      <td>1.251860</td>\n",
       "      <td>4.985443e+05</td>\n",
       "      <td>2511.407200</td>\n",
       "    </tr>\n",
       "    <tr>\n",
       "      <th>std</th>\n",
       "      <td>43064.737015</td>\n",
       "      <td>29261.94493</td>\n",
       "      <td>0.863476</td>\n",
       "      <td>0.430632</td>\n",
       "      <td>2.395380e+05</td>\n",
       "      <td>869.131439</td>\n",
       "    </tr>\n",
       "    <tr>\n",
       "      <th>min</th>\n",
       "      <td>50023.000000</td>\n",
       "      <td>100018.00000</td>\n",
       "      <td>3.000000</td>\n",
       "      <td>0.500000</td>\n",
       "      <td>1.501350e+05</td>\n",
       "      <td>1000.000000</td>\n",
       "    </tr>\n",
       "    <tr>\n",
       "      <th>25%</th>\n",
       "      <td>86861.250000</td>\n",
       "      <td>123799.50000</td>\n",
       "      <td>3.780000</td>\n",
       "      <td>0.880000</td>\n",
       "      <td>3.122615e+05</td>\n",
       "      <td>1765.750000</td>\n",
       "    </tr>\n",
       "    <tr>\n",
       "      <th>50%</th>\n",
       "      <td>121774.000000</td>\n",
       "      <td>148790.00000</td>\n",
       "      <td>4.510000</td>\n",
       "      <td>1.250000</td>\n",
       "      <td>4.871920e+05</td>\n",
       "      <td>2520.500000</td>\n",
       "    </tr>\n",
       "    <tr>\n",
       "      <th>75%</th>\n",
       "      <td>161180.500000</td>\n",
       "      <td>174897.25000</td>\n",
       "      <td>5.250000</td>\n",
       "      <td>1.620000</td>\n",
       "      <td>6.524260e+05</td>\n",
       "      <td>3252.500000</td>\n",
       "    </tr>\n",
       "    <tr>\n",
       "      <th>max</th>\n",
       "      <td>199963.000000</td>\n",
       "      <td>199928.00000</td>\n",
       "      <td>6.000000</td>\n",
       "      <td>2.000000</td>\n",
       "      <td>1.995582e+06</td>\n",
       "      <td>3999.000000</td>\n",
       "    </tr>\n",
       "  </tbody>\n",
       "</table>\n",
       "</div>"
      ],
      "text/plain": [
       "       Housing_Inventory  Construction_Costs  Interest_Rates  \\\n",
       "count        5000.000000          5000.00000     5000.000000   \n",
       "mean       123569.872400        149417.91820        4.507358   \n",
       "std         43064.737015         29261.94493        0.863476   \n",
       "min         50023.000000        100018.00000        3.000000   \n",
       "25%         86861.250000        123799.50000        3.780000   \n",
       "50%        121774.000000        148790.00000        4.510000   \n",
       "75%        161180.500000        174897.25000        5.250000   \n",
       "max        199963.000000        199928.00000        6.000000   \n",
       "\n",
       "       Population_Growth   House_Price  House_Area_sqft  \n",
       "count        5000.000000  5.000000e+03      5000.000000  \n",
       "mean            1.251860  4.985443e+05      2511.407200  \n",
       "std             0.430632  2.395380e+05       869.131439  \n",
       "min             0.500000  1.501350e+05      1000.000000  \n",
       "25%             0.880000  3.122615e+05      1765.750000  \n",
       "50%             1.250000  4.871920e+05      2520.500000  \n",
       "75%             1.620000  6.524260e+05      3252.500000  \n",
       "max             2.000000  1.995582e+06      3999.000000  "
      ]
     },
     "execution_count": 5,
     "metadata": {},
     "output_type": "execute_result"
    }
   ],
   "source": [
    "df.describe()"
   ]
  },
  {
   "cell_type": "code",
   "execution_count": 20,
   "metadata": {},
   "outputs": [
    {
     "data": {
      "text/plain": [
       "['State',\n",
       " 'Land_Availability',\n",
       " 'Economic_Conditions',\n",
       " 'Consumer_Confidence',\n",
       " 'Demographic_Trends',\n",
       " 'Location',\n",
       " 'Amenities']"
      ]
     },
     "execution_count": 20,
     "metadata": {},
     "output_type": "execute_result"
    }
   ],
   "source": [
    "df.select_dtypes(include='object').columns.tolist()"
   ]
  },
  {
   "cell_type": "markdown",
   "metadata": {},
   "source": [
    "#### Shape of the dataset"
   ]
  },
  {
   "cell_type": "code",
   "execution_count": 12,
   "metadata": {},
   "outputs": [
    {
     "data": {
      "text/plain": [
       "(5000, 14)"
      ]
     },
     "execution_count": 12,
     "metadata": {},
     "output_type": "execute_result"
    }
   ],
   "source": [
    "df.shape"
   ]
  },
  {
   "cell_type": "markdown",
   "metadata": {},
   "source": [
    "#### 2.2 Dataset information\n",
    "* Date: The chronological reference point for the dataset, essential for tracking temporal trends and making informed real estate decisions.\n",
    "\n",
    "* State: The geographic region with in which housing data is collected, a critical factor in assessing market variations and regulatory influences.\n",
    "\n",
    "* Housing Inventory: The quantity of available residential properties, a pivotal metric for gauging supply and demand dynamics within a housing market.\n",
    "\n",
    "* Construction Costs: The expenses associated with building or renovating residential properties, influencing both housing supply and pricing.\n",
    "\n",
    "* Land Availability: The extent to which land suitable for housing development is accessible, a factor that can dictate future market expansion and pricing.\n",
    "\n",
    "* Interest Rates: The prevailing rates at which borrowers can access financing, impacting housing affordability and demand.\n",
    "\n",
    "* Economic Conditions: The overall financial health and stability of the region, influencing job prospects and residents ability to purchase homes.\n",
    "\n",
    "* Population Growth: The rate at which the local population is increasing or decreasing, indicative of housing demand and potential investment opportunities.\n",
    "\n",
    "* Consumer Confidence: The sentiment among potential homebuyers, which can sway market activity and housing price trends.\n",
    "\n",
    "* Demographic Trends: Patterns in the population's age, income, and household composition, shaping housing preferences and market demands.\n",
    "\n",
    "* Location & Amenities: The attractiveness of a property's location and its proximity to essential amenities, influencing its desirability and value.\n",
    "\n",
    "* House Price ($): The cost of purchasing a residential property, a fundamental indicator of market performance.\n",
    "\n",
    "* House Area (sqft): The size of a residential property, a crucial factor affecting its market value and suitability for different buyer demographics."
   ]
  },
  {
   "cell_type": "markdown",
   "metadata": {},
   "source": [
    "#### 3. Data Checks to perform\n",
    "* Check Missing values\n",
    "* Check Duplicates\n",
    "* Check data type\n",
    "* Check the number of unique values of each column\n",
    "* Check statistics of data set\n",
    "* Check various categories present in the different categorical column\n",
    "#### 3.1 Check Missing values"
   ]
  },
  {
   "cell_type": "code",
   "execution_count": 1,
   "metadata": {},
   "outputs": [
    {
     "ename": "NameError",
     "evalue": "name 'df' is not defined",
     "output_type": "error",
     "traceback": [
      "\u001b[1;31m---------------------------------------------------------------------------\u001b[0m",
      "\u001b[1;31mNameError\u001b[0m                                 Traceback (most recent call last)",
      "Cell \u001b[1;32mIn[1], line 1\u001b[0m\n\u001b[1;32m----> 1\u001b[0m df\u001b[39m.\u001b[39misna()\u001b[39m.\u001b[39msum()\n",
      "\u001b[1;31mNameError\u001b[0m: name 'df' is not defined"
     ]
    }
   ],
   "source": [
    "df.isna().sum()"
   ]
  },
  {
   "cell_type": "markdown",
   "metadata": {},
   "source": [
    "Insight\n",
    "- The dataset is complete with no missing values, ensuring the integrity of the data for analysis.\n",
    "#### 3.2 Check Duplicates"
   ]
  },
  {
   "cell_type": "code",
   "execution_count": 6,
   "metadata": {},
   "outputs": [
    {
     "data": {
      "text/plain": [
       "0"
      ]
     },
     "execution_count": 6,
     "metadata": {},
     "output_type": "execute_result"
    }
   ],
   "source": [
    "df.duplicated().sum()"
   ]
  },
  {
   "cell_type": "markdown",
   "metadata": {},
   "source": [
    "Insight\n",
    "- No duplicated values are present in the dataset, reducing the risk of data redundancy and ensuring data consistency\n",
    "#### 3.3 Check data type"
   ]
  },
  {
   "cell_type": "code",
   "execution_count": 27,
   "metadata": {},
   "outputs": [
    {
     "data": {
      "text/plain": [
       "array(['Good Schools', 'Transport'], dtype=object)"
      ]
     },
     "execution_count": 27,
     "metadata": {},
     "output_type": "execute_result"
    }
   ],
   "source": [
    "df['Amenities'].unique()"
   ]
  },
  {
   "cell_type": "code",
   "execution_count": null,
   "metadata": {},
   "outputs": [
    {
     "name": "stdout",
     "output_type": "stream",
     "text": [
      "<class 'pandas.core.frame.DataFrame'>\n",
      "RangeIndex: 5000 entries, 0 to 4999\n",
      "Data columns (total 12 columns):\n",
      " #   Column                Non-Null Count  Dtype  \n",
      "---  ------                --------------  -----  \n",
      " 0   State                 5000 non-null   object \n",
      " 1   Housing_Inventory     5000 non-null   int64  \n",
      " 2   Construction_Costs    5000 non-null   int64  \n",
      " 3   Land_Availability     5000 non-null   object \n",
      " 4   Interest_Rates        5000 non-null   float64\n",
      " 5   Economic_Conditions   5000 non-null   object \n",
      " 6   Population_Growth     5000 non-null   float64\n",
      " 7   Consumer_Confidence   5000 non-null   object \n",
      " 8   Demographic_Trends    5000 non-null   object \n",
      " 9   Location_&_Amenities  5000 non-null   object \n",
      " 10  House_Price_($)       5000 non-null   int64  \n",
      " 11  House_Area_(sqft)     5000 non-null   int64  \n",
      "dtypes: float64(2), int64(4), object(6)\n",
      "memory usage: 468.9+ KB\n"
     ]
    }
   ],
   "source": [
    "df.info()"
   ]
  },
  {
   "cell_type": "markdown",
   "metadata": {},
   "source": [
    "Insights\n",
    "- In the above dataset there is no null values \n",
    "- there are 3 types of datatypes object, float and int\n",
    "- computers are only understanding the numbers but we have objests (or) charecters also\n",
    "- These objects are converted into numbers with the help of preprocessing step."
   ]
  },
  {
   "cell_type": "markdown",
   "metadata": {},
   "source": [
    "#### 3.4 Checking the number of unique values of each column"
   ]
  },
  {
   "cell_type": "code",
   "execution_count": null,
   "metadata": {},
   "outputs": [
    {
     "data": {
      "text/plain": [
       "State                     50\n",
       "Housing_Inventory       4922\n",
       "Construction_Costs      4870\n",
       "Land_Availability          2\n",
       "Interest_Rates           301\n",
       "Economic_Conditions        3\n",
       "Population_Growth        151\n",
       "Consumer_Confidence        3\n",
       "Demographic_Trends         2\n",
       "Location_&_Amenities       2\n",
       "House_Price_($)         4984\n",
       "House_Area_(sqft)       2431\n",
       "dtype: int64"
      ]
     },
     "execution_count": 22,
     "metadata": {},
     "output_type": "execute_result"
    }
   ],
   "source": [
    "df.nunique()"
   ]
  },
  {
   "cell_type": "markdown",
   "metadata": {},
   "source": [
    "Insights\n",
    "- Geographic Diversity: The dataset covers data for 50 different states, indicating a wide geographical coverage.\n",
    "\n",
    "- Temporal Variability: The Date column shows a wide range of unique date values, suggesting that data was collected over a significant period, potentially allowing for time-series analysis.\n",
    "\n",
    "- Housing Inventory Spread: The Housing Inventory column contains a large number of unique values, indicating variations in housing inventory levels across different observations or regions.\n",
    "\n",
    "- Construction Cost Range: The Construction Costs column has a diverse set of unique values, which can be useful for analyzing the cost of construction across different scenarios.\n",
    "\n",
    "- Land Availability Categories: The Land Availability column has only 2 unique values, suggesting a binary classification for land availability, which may be valuable for assessing the impact of land availability on other factors in the dataset."
   ]
  },
  {
   "cell_type": "markdown",
   "metadata": {},
   "source": [
    "#### 3.5 Check statistics of data set"
   ]
  },
  {
   "cell_type": "code",
   "execution_count": null,
   "metadata": {},
   "outputs": [
    {
     "data": {
      "text/html": [
       "<div>\n",
       "<style scoped>\n",
       "    .dataframe tbody tr th:only-of-type {\n",
       "        vertical-align: middle;\n",
       "    }\n",
       "\n",
       "    .dataframe tbody tr th {\n",
       "        vertical-align: top;\n",
       "    }\n",
       "\n",
       "    .dataframe thead th {\n",
       "        text-align: right;\n",
       "    }\n",
       "</style>\n",
       "<table border=\"1\" class=\"dataframe\">\n",
       "  <thead>\n",
       "    <tr style=\"text-align: right;\">\n",
       "      <th></th>\n",
       "      <th>Housing_Inventory</th>\n",
       "      <th>Construction_Costs</th>\n",
       "      <th>Interest_Rates</th>\n",
       "      <th>Population_Growth</th>\n",
       "      <th>House_Price_($)</th>\n",
       "      <th>House_Area_(sqft)</th>\n",
       "    </tr>\n",
       "  </thead>\n",
       "  <tbody>\n",
       "    <tr>\n",
       "      <th>count</th>\n",
       "      <td>5000.00000</td>\n",
       "      <td>5000.000000</td>\n",
       "      <td>5000.000000</td>\n",
       "      <td>5000.000000</td>\n",
       "      <td>5.000000e+03</td>\n",
       "      <td>5000.000000</td>\n",
       "    </tr>\n",
       "    <tr>\n",
       "      <th>mean</th>\n",
       "      <td>124888.02200</td>\n",
       "      <td>149533.079800</td>\n",
       "      <td>4.501782</td>\n",
       "      <td>1.253826</td>\n",
       "      <td>4.985583e+05</td>\n",
       "      <td>2479.323200</td>\n",
       "    </tr>\n",
       "    <tr>\n",
       "      <th>std</th>\n",
       "      <td>43419.95989</td>\n",
       "      <td>29121.474948</td>\n",
       "      <td>0.875825</td>\n",
       "      <td>0.434276</td>\n",
       "      <td>2.379069e+05</td>\n",
       "      <td>853.296504</td>\n",
       "    </tr>\n",
       "    <tr>\n",
       "      <th>min</th>\n",
       "      <td>50038.00000</td>\n",
       "      <td>100012.000000</td>\n",
       "      <td>3.000000</td>\n",
       "      <td>0.500000</td>\n",
       "      <td>1.504900e+05</td>\n",
       "      <td>1000.000000</td>\n",
       "    </tr>\n",
       "    <tr>\n",
       "      <th>25%</th>\n",
       "      <td>87910.50000</td>\n",
       "      <td>124521.250000</td>\n",
       "      <td>3.740000</td>\n",
       "      <td>0.880000</td>\n",
       "      <td>3.231162e+05</td>\n",
       "      <td>1758.750000</td>\n",
       "    </tr>\n",
       "    <tr>\n",
       "      <th>50%</th>\n",
       "      <td>124298.00000</td>\n",
       "      <td>149372.500000</td>\n",
       "      <td>4.500000</td>\n",
       "      <td>1.260000</td>\n",
       "      <td>4.823635e+05</td>\n",
       "      <td>2469.500000</td>\n",
       "    </tr>\n",
       "    <tr>\n",
       "      <th>75%</th>\n",
       "      <td>162833.75000</td>\n",
       "      <td>174801.250000</td>\n",
       "      <td>5.250000</td>\n",
       "      <td>1.640000</td>\n",
       "      <td>6.475578e+05</td>\n",
       "      <td>3220.000000</td>\n",
       "    </tr>\n",
       "    <tr>\n",
       "      <th>max</th>\n",
       "      <td>199958.00000</td>\n",
       "      <td>199969.000000</td>\n",
       "      <td>6.000000</td>\n",
       "      <td>2.000000</td>\n",
       "      <td>1.999729e+06</td>\n",
       "      <td>4000.000000</td>\n",
       "    </tr>\n",
       "  </tbody>\n",
       "</table>\n",
       "</div>"
      ],
      "text/plain": [
       "       Housing_Inventory  Construction_Costs  Interest_Rates  \\\n",
       "count         5000.00000         5000.000000     5000.000000   \n",
       "mean        124888.02200       149533.079800        4.501782   \n",
       "std          43419.95989        29121.474948        0.875825   \n",
       "min          50038.00000       100012.000000        3.000000   \n",
       "25%          87910.50000       124521.250000        3.740000   \n",
       "50%         124298.00000       149372.500000        4.500000   \n",
       "75%         162833.75000       174801.250000        5.250000   \n",
       "max         199958.00000       199969.000000        6.000000   \n",
       "\n",
       "       Population_Growth  House_Price_($)  House_Area_(sqft)  \n",
       "count        5000.000000     5.000000e+03        5000.000000  \n",
       "mean            1.253826     4.985583e+05        2479.323200  \n",
       "std             0.434276     2.379069e+05         853.296504  \n",
       "min             0.500000     1.504900e+05        1000.000000  \n",
       "25%             0.880000     3.231162e+05        1758.750000  \n",
       "50%             1.260000     4.823635e+05        2469.500000  \n",
       "75%             1.640000     6.475578e+05        3220.000000  \n",
       "max             2.000000     1.999729e+06        4000.000000  "
      ]
     },
     "execution_count": 23,
     "metadata": {},
     "output_type": "execute_result"
    }
   ],
   "source": [
    "df.describe()"
   ]
  },
  {
   "cell_type": "markdown",
   "metadata": {},
   "source": [
    "Insights\n",
    "Insight\n",
    "* From above description of numerical data, all means are very close to each other - between 1.25 and 498000;\n",
    "* All standard deviations are also close - between 0.434 and 2379069;\n",
    "* While there is a minimum score 0.5 for Population Growth.\n",
    "- In the 75 percentile and max value there is no vary large difference, and the outliers of the above dataset is not more then that.\n",
    "- In the describe is a python function and it is used to find the descriptive statistics of the dataset\n",
    "- It gives summary statistics like mean, standard deviation, minimum, maximum, quartiles, etc., for each numerical column in the DataFrame.\n",
    "- These statistics help you understand the central tendency, spread, and distribution of your data"
   ]
  },
  {
   "cell_type": "markdown",
   "metadata": {},
   "source": [
    "#### 3.6 Exploring Data"
   ]
  },
  {
   "cell_type": "code",
   "execution_count": null,
   "metadata": {},
   "outputs": [
    {
     "data": {
      "text/html": [
       "<div>\n",
       "<style scoped>\n",
       "    .dataframe tbody tr th:only-of-type {\n",
       "        vertical-align: middle;\n",
       "    }\n",
       "\n",
       "    .dataframe tbody tr th {\n",
       "        vertical-align: top;\n",
       "    }\n",
       "\n",
       "    .dataframe thead th {\n",
       "        text-align: right;\n",
       "    }\n",
       "</style>\n",
       "<table border=\"1\" class=\"dataframe\">\n",
       "  <thead>\n",
       "    <tr style=\"text-align: right;\">\n",
       "      <th></th>\n",
       "      <th>State</th>\n",
       "      <th>Housing_Inventory</th>\n",
       "      <th>Construction_Costs</th>\n",
       "      <th>Land_Availability</th>\n",
       "      <th>Interest_Rates</th>\n",
       "      <th>Economic_Conditions</th>\n",
       "      <th>Population_Growth</th>\n",
       "      <th>Consumer_Confidence</th>\n",
       "      <th>Demographic_Trends</th>\n",
       "      <th>Location_&amp;_Amenities</th>\n",
       "      <th>House_Price_($)</th>\n",
       "      <th>House_Area_(sqft)</th>\n",
       "    </tr>\n",
       "  </thead>\n",
       "  <tbody>\n",
       "    <tr>\n",
       "      <th>0</th>\n",
       "      <td>Georgia</td>\n",
       "      <td>131832</td>\n",
       "      <td>104114</td>\n",
       "      <td>Abundant</td>\n",
       "      <td>3.29</td>\n",
       "      <td>Weak</td>\n",
       "      <td>1.05</td>\n",
       "      <td>Low</td>\n",
       "      <td>Millennial Buyers</td>\n",
       "      <td>Urban, Good Schools</td>\n",
       "      <td>244358</td>\n",
       "      <td>2763</td>\n",
       "    </tr>\n",
       "    <tr>\n",
       "      <th>1</th>\n",
       "      <td>Colorado</td>\n",
       "      <td>190652</td>\n",
       "      <td>147075</td>\n",
       "      <td>Abundant</td>\n",
       "      <td>4.81</td>\n",
       "      <td>Moderate</td>\n",
       "      <td>0.56</td>\n",
       "      <td>Low</td>\n",
       "      <td>Millennial Buyers</td>\n",
       "      <td>Urban, Good Schools</td>\n",
       "      <td>689121</td>\n",
       "      <td>1779</td>\n",
       "    </tr>\n",
       "    <tr>\n",
       "      <th>2</th>\n",
       "      <td>Maine</td>\n",
       "      <td>148790</td>\n",
       "      <td>120236</td>\n",
       "      <td>Abundant</td>\n",
       "      <td>5.60</td>\n",
       "      <td>Strong</td>\n",
       "      <td>0.79</td>\n",
       "      <td>High</td>\n",
       "      <td>Millennial Buyers</td>\n",
       "      <td>Urban, Good Schools</td>\n",
       "      <td>481104</td>\n",
       "      <td>2226</td>\n",
       "    </tr>\n",
       "    <tr>\n",
       "      <th>3</th>\n",
       "      <td>Washington</td>\n",
       "      <td>108619</td>\n",
       "      <td>197895</td>\n",
       "      <td>Limited</td>\n",
       "      <td>3.21</td>\n",
       "      <td>Strong</td>\n",
       "      <td>1.02</td>\n",
       "      <td>High</td>\n",
       "      <td>Millennial Buyers</td>\n",
       "      <td>Urban, Good Schools</td>\n",
       "      <td>244898</td>\n",
       "      <td>2722</td>\n",
       "    </tr>\n",
       "    <tr>\n",
       "      <th>4</th>\n",
       "      <td>Rhode Island</td>\n",
       "      <td>178383</td>\n",
       "      <td>184711</td>\n",
       "      <td>Limited</td>\n",
       "      <td>5.49</td>\n",
       "      <td>Strong</td>\n",
       "      <td>1.66</td>\n",
       "      <td>Low</td>\n",
       "      <td>Aging Population</td>\n",
       "      <td>Suburban, Transport</td>\n",
       "      <td>316555</td>\n",
       "      <td>3950</td>\n",
       "    </tr>\n",
       "  </tbody>\n",
       "</table>\n",
       "</div>"
      ],
      "text/plain": [
       "          State  Housing_Inventory  Construction_Costs Land_Availability  \\\n",
       "0       Georgia             131832              104114          Abundant   \n",
       "1      Colorado             190652              147075          Abundant   \n",
       "2         Maine             148790              120236          Abundant   \n",
       "3    Washington             108619              197895           Limited   \n",
       "4  Rhode Island             178383              184711           Limited   \n",
       "\n",
       "   Interest_Rates Economic_Conditions  Population_Growth Consumer_Confidence  \\\n",
       "0            3.29                Weak               1.05                 Low   \n",
       "1            4.81            Moderate               0.56                 Low   \n",
       "2            5.60              Strong               0.79                High   \n",
       "3            3.21              Strong               1.02                High   \n",
       "4            5.49              Strong               1.66                 Low   \n",
       "\n",
       "  Demographic_Trends Location_&_Amenities  House_Price_($)  House_Area_(sqft)  \n",
       "0  Millennial Buyers  Urban, Good Schools           244358               2763  \n",
       "1  Millennial Buyers  Urban, Good Schools           689121               1779  \n",
       "2  Millennial Buyers  Urban, Good Schools           481104               2226  \n",
       "3  Millennial Buyers  Urban, Good Schools           244898               2722  \n",
       "4   Aging Population  Suburban, Transport           316555               3950  "
      ]
     },
     "execution_count": 24,
     "metadata": {},
     "output_type": "execute_result"
    }
   ],
   "source": [
    "df.head()"
   ]
  },
  {
   "cell_type": "code",
   "execution_count": null,
   "metadata": {},
   "outputs": [
    {
     "name": "stdout",
     "output_type": "stream",
     "text": [
      "Categories in 'State' variable:      ['Georgia' 'Colorado' 'Maine' 'Washington' 'Rhode Island' 'Iowa'\n",
      " 'Virginia' 'Missouri' 'New Jersey' 'New York' 'Indiana' 'West Virginia'\n",
      " 'Florida' 'Mississippi' 'Montana' 'Hawaii' 'Michigan' 'Massachusetts'\n",
      " 'South Carolina' 'Wyoming' 'New Hampshire' 'Connecticut' 'Arizona'\n",
      " 'Louisiana' 'Alabama' 'Oregon' 'Maryland' 'New Mexico' 'Oklahoma'\n",
      " 'Alaska' 'South Dakota' 'Pennsylvania' 'Kansas' 'Texas' 'North Carolina'\n",
      " 'North Dakota' 'Tennessee' 'Minnesota' 'Wisconsin' 'California' 'Utah'\n",
      " 'Arkansas' 'Kentucky' 'Idaho' 'Nevada' 'Delaware' 'Nebraska' 'Vermont'\n",
      " 'Illinois' 'Ohio']\n",
      "Categories in 'Land Availability' variable:   "
     ]
    },
    {
     "ename": "KeyError",
     "evalue": "'Land Availability'",
     "output_type": "error",
     "traceback": [
      "\u001b[1;31m---------------------------------------------------------------------------\u001b[0m",
      "\u001b[1;31mKeyError\u001b[0m                                  Traceback (most recent call last)",
      "File \u001b[1;32mc:\\US-House-Analysis\\house\\lib\\site-packages\\pandas\\core\\indexes\\base.py:3790\u001b[0m, in \u001b[0;36mIndex.get_loc\u001b[1;34m(self, key)\u001b[0m\n\u001b[0;32m   3789\u001b[0m \u001b[39mtry\u001b[39;00m:\n\u001b[1;32m-> 3790\u001b[0m     \u001b[39mreturn\u001b[39;00m \u001b[39mself\u001b[39;49m\u001b[39m.\u001b[39;49m_engine\u001b[39m.\u001b[39;49mget_loc(casted_key)\n\u001b[0;32m   3791\u001b[0m \u001b[39mexcept\u001b[39;00m \u001b[39mKeyError\u001b[39;00m \u001b[39mas\u001b[39;00m err:\n",
      "File \u001b[1;32mindex.pyx:152\u001b[0m, in \u001b[0;36mpandas._libs.index.IndexEngine.get_loc\u001b[1;34m()\u001b[0m\n",
      "File \u001b[1;32mindex.pyx:181\u001b[0m, in \u001b[0;36mpandas._libs.index.IndexEngine.get_loc\u001b[1;34m()\u001b[0m\n",
      "File \u001b[1;32mpandas\\_libs\\hashtable_class_helper.pxi:7080\u001b[0m, in \u001b[0;36mpandas._libs.hashtable.PyObjectHashTable.get_item\u001b[1;34m()\u001b[0m\n",
      "File \u001b[1;32mpandas\\_libs\\hashtable_class_helper.pxi:7088\u001b[0m, in \u001b[0;36mpandas._libs.hashtable.PyObjectHashTable.get_item\u001b[1;34m()\u001b[0m\n",
      "\u001b[1;31mKeyError\u001b[0m: 'Land Availability'",
      "\nThe above exception was the direct cause of the following exception:\n",
      "\u001b[1;31mKeyError\u001b[0m                                  Traceback (most recent call last)",
      "Cell \u001b[1;32mIn[25], line 5\u001b[0m\n\u001b[0;32m      2\u001b[0m \u001b[39mprint\u001b[39m(df[\u001b[39m'\u001b[39m\u001b[39mState\u001b[39m\u001b[39m'\u001b[39m]\u001b[39m.\u001b[39munique())\n\u001b[0;32m      4\u001b[0m \u001b[39mprint\u001b[39m(\u001b[39m\"\u001b[39m\u001b[39mCategories in \u001b[39m\u001b[39m'\u001b[39m\u001b[39mLand Availability\u001b[39m\u001b[39m'\u001b[39m\u001b[39m variable:  \u001b[39m\u001b[39m\"\u001b[39m,end\u001b[39m=\u001b[39m\u001b[39m\"\u001b[39m\u001b[39m \u001b[39m\u001b[39m\"\u001b[39m)\n\u001b[1;32m----> 5\u001b[0m \u001b[39mprint\u001b[39m(df[\u001b[39m'\u001b[39;49m\u001b[39mLand Availability\u001b[39;49m\u001b[39m'\u001b[39;49m]\u001b[39m.\u001b[39munique())\n\u001b[0;32m      7\u001b[0m \u001b[39mprint\u001b[39m(\u001b[39m\"\u001b[39m\u001b[39mCategories in\u001b[39m\u001b[39m'\u001b[39m\u001b[39mEconomic Conditions\u001b[39m\u001b[39m'\u001b[39m\u001b[39m variable:\u001b[39m\u001b[39m\"\u001b[39m,end\u001b[39m=\u001b[39m\u001b[39m\"\u001b[39m\u001b[39m \u001b[39m\u001b[39m\"\u001b[39m )\n\u001b[0;32m      8\u001b[0m \u001b[39mprint\u001b[39m(df[\u001b[39m'\u001b[39m\u001b[39mEconomic Conditions\u001b[39m\u001b[39m'\u001b[39m]\u001b[39m.\u001b[39munique())\n",
      "File \u001b[1;32mc:\\US-House-Analysis\\house\\lib\\site-packages\\pandas\\core\\frame.py:3896\u001b[0m, in \u001b[0;36mDataFrame.__getitem__\u001b[1;34m(self, key)\u001b[0m\n\u001b[0;32m   3894\u001b[0m \u001b[39mif\u001b[39;00m \u001b[39mself\u001b[39m\u001b[39m.\u001b[39mcolumns\u001b[39m.\u001b[39mnlevels \u001b[39m>\u001b[39m \u001b[39m1\u001b[39m:\n\u001b[0;32m   3895\u001b[0m     \u001b[39mreturn\u001b[39;00m \u001b[39mself\u001b[39m\u001b[39m.\u001b[39m_getitem_multilevel(key)\n\u001b[1;32m-> 3896\u001b[0m indexer \u001b[39m=\u001b[39m \u001b[39mself\u001b[39;49m\u001b[39m.\u001b[39;49mcolumns\u001b[39m.\u001b[39;49mget_loc(key)\n\u001b[0;32m   3897\u001b[0m \u001b[39mif\u001b[39;00m is_integer(indexer):\n\u001b[0;32m   3898\u001b[0m     indexer \u001b[39m=\u001b[39m [indexer]\n",
      "File \u001b[1;32mc:\\US-House-Analysis\\house\\lib\\site-packages\\pandas\\core\\indexes\\base.py:3797\u001b[0m, in \u001b[0;36mIndex.get_loc\u001b[1;34m(self, key)\u001b[0m\n\u001b[0;32m   3792\u001b[0m     \u001b[39mif\u001b[39;00m \u001b[39misinstance\u001b[39m(casted_key, \u001b[39mslice\u001b[39m) \u001b[39mor\u001b[39;00m (\n\u001b[0;32m   3793\u001b[0m         \u001b[39misinstance\u001b[39m(casted_key, abc\u001b[39m.\u001b[39mIterable)\n\u001b[0;32m   3794\u001b[0m         \u001b[39mand\u001b[39;00m \u001b[39many\u001b[39m(\u001b[39misinstance\u001b[39m(x, \u001b[39mslice\u001b[39m) \u001b[39mfor\u001b[39;00m x \u001b[39min\u001b[39;00m casted_key)\n\u001b[0;32m   3795\u001b[0m     ):\n\u001b[0;32m   3796\u001b[0m         \u001b[39mraise\u001b[39;00m InvalidIndexError(key)\n\u001b[1;32m-> 3797\u001b[0m     \u001b[39mraise\u001b[39;00m \u001b[39mKeyError\u001b[39;00m(key) \u001b[39mfrom\u001b[39;00m \u001b[39merr\u001b[39;00m\n\u001b[0;32m   3798\u001b[0m \u001b[39mexcept\u001b[39;00m \u001b[39mTypeError\u001b[39;00m:\n\u001b[0;32m   3799\u001b[0m     \u001b[39m# If we have a listlike key, _check_indexing_error will raise\u001b[39;00m\n\u001b[0;32m   3800\u001b[0m     \u001b[39m#  InvalidIndexError. Otherwise we fall through and re-raise\u001b[39;00m\n\u001b[0;32m   3801\u001b[0m     \u001b[39m#  the TypeError.\u001b[39;00m\n\u001b[0;32m   3802\u001b[0m     \u001b[39mself\u001b[39m\u001b[39m.\u001b[39m_check_indexing_error(key)\n",
      "\u001b[1;31mKeyError\u001b[0m: 'Land Availability'"
     ]
    }
   ],
   "source": [
    "print(\"Categories in 'State' variable:     \",end=\" \" )\n",
    "print(df['State'].unique())\n",
    "\n",
    "print(\"Categories in 'Land Availability' variable:  \",end=\" \")\n",
    "print(df['Land Availability'].unique())\n",
    "\n",
    "print(\"Categories in'Economic Conditions' variable:\",end=\" \" )\n",
    "print(df['Economic Conditions'].unique())\n",
    "\n",
    "print(\"Categories in 'Consumer Confidence' variable:     \",end=\" \" )\n",
    "print(df['Consumer Confidence'].unique())\n",
    "\n",
    "print(\"Categories in 'Demographic Trends' variable:     \",end=\" \" )\n",
    "print(df['Demographic Trends'].unique())\n",
    "\n",
    "print(\"Categories in 'Location & Amenities' variable:     \",end=\" \" )\n",
    "print(df['Location & Amenities'].unique())"
   ]
  },
  {
   "cell_type": "code",
   "execution_count": null,
   "metadata": {},
   "outputs": [
    {
     "name": "stdout",
     "output_type": "stream",
     "text": [
      "We have 6 numerical features : ['Housing Inventory', 'Construction Costs', 'Interest Rates', 'Population Growth', 'House Price ($)', 'House Area (sqft)']\n",
      "\n",
      "We have 7 categorical features : ['Date', 'State', 'Land Availability', 'Economic Conditions', 'Consumer Confidence', 'Demographic Trends', 'Location & Amenities']\n"
     ]
    }
   ],
   "source": [
    "# define numerical & categorical columns\n",
    "numeric_features = [feature for feature in df.columns if df[feature].dtype != 'O']\n",
    "categorical_features = [feature for feature in df.columns if df[feature].dtype == 'O']\n",
    "\n",
    "# print columns\n",
    "print('We have {} numerical features : {}'.format(len(numeric_features), numeric_features))\n",
    "print('\\nWe have {} categorical features : {}'.format(len(categorical_features), categorical_features))"
   ]
  },
  {
   "cell_type": "markdown",
   "metadata": {},
   "source": [
    "##### 3.7 Adding columns for \"Price per Square Foot\", \"Mortgage Payment Estimate\" and \"Yearly Growth Rate\""
   ]
  },
  {
   "cell_type": "code",
   "execution_count": null,
   "metadata": {},
   "outputs": [],
   "source": [
    "# Create a new column for Price per Sqft\n",
    "df['Price per Sqft'] = df['House Price ($)'] / df['House Area (sqft)']\n",
    "# Assuming you have data for interest rates and house prices\n",
    "interest_rates = df['Interest Rates'] / 100  # Convert interest rates to decimal\n",
    "\n",
    "# Calculate monthly mortgage payment\n",
    "df['Monthly Mortgage Payment'] = (df['House Price ($)'] * (interest_rates / 12)) / (1 - (1 + interest_rates / 12) ** (-30 * 12))\n",
    "\n",
    "# Assuming you have a 'Date' column as a datetime object and 'House Price ($)' column\n",
    "# Sort the DataFrame by 'Date' to ensure it's in chronological order\n",
    "df['Date'] = pd.to_datetime(df['Date'])\n",
    "df = df.sort_values(by='Date')\n",
    "\n",
    "# Calculate the yearly growth rate for rows with at least 12 months of data\n",
    "df['Yearly Growth Rate'] = df.groupby('State')['House Price ($)'].pct_change(periods=12) * 100\n",
    "\n",
    "# Fill NaN values with 0 or any other appropriate value\n",
    "df['Yearly Growth Rate'].fillna(0, inplace=True)\n",
    "\n"
   ]
  },
  {
   "cell_type": "code",
   "execution_count": null,
   "metadata": {},
   "outputs": [
    {
     "data": {
      "text/html": [
       "<div>\n",
       "<style scoped>\n",
       "    .dataframe tbody tr th:only-of-type {\n",
       "        vertical-align: middle;\n",
       "    }\n",
       "\n",
       "    .dataframe tbody tr th {\n",
       "        vertical-align: top;\n",
       "    }\n",
       "\n",
       "    .dataframe thead th {\n",
       "        text-align: right;\n",
       "    }\n",
       "</style>\n",
       "<table border=\"1\" class=\"dataframe\">\n",
       "  <thead>\n",
       "    <tr style=\"text-align: right;\">\n",
       "      <th></th>\n",
       "      <th>Date</th>\n",
       "      <th>State</th>\n",
       "      <th>Housing Inventory</th>\n",
       "      <th>Construction Costs</th>\n",
       "      <th>Land Availability</th>\n",
       "      <th>Interest Rates</th>\n",
       "      <th>Economic Conditions</th>\n",
       "      <th>Population Growth</th>\n",
       "      <th>Consumer Confidence</th>\n",
       "      <th>Demographic Trends</th>\n",
       "      <th>Location &amp; Amenities</th>\n",
       "      <th>House Price ($)</th>\n",
       "      <th>House Area (sqft)</th>\n",
       "      <th>Price per Sqft</th>\n",
       "      <th>Monthly Mortgage Payment</th>\n",
       "      <th>Yearly Growth Rate</th>\n",
       "    </tr>\n",
       "  </thead>\n",
       "  <tbody>\n",
       "    <tr>\n",
       "      <th>0</th>\n",
       "      <td>2010-01-01</td>\n",
       "      <td>Georgia</td>\n",
       "      <td>131832</td>\n",
       "      <td>104114</td>\n",
       "      <td>Abundant</td>\n",
       "      <td>3.29</td>\n",
       "      <td>Weak</td>\n",
       "      <td>1.05</td>\n",
       "      <td>Low</td>\n",
       "      <td>Millennial Buyers</td>\n",
       "      <td>Urban, Good Schools</td>\n",
       "      <td>244358</td>\n",
       "      <td>2763</td>\n",
       "      <td>88.439377</td>\n",
       "      <td>1068.833336</td>\n",
       "      <td>0.0</td>\n",
       "    </tr>\n",
       "    <tr>\n",
       "      <th>4993</th>\n",
       "      <td>2010-01-01</td>\n",
       "      <td>Rhode Island</td>\n",
       "      <td>159091</td>\n",
       "      <td>142118</td>\n",
       "      <td>Abundant</td>\n",
       "      <td>4.89</td>\n",
       "      <td>Weak</td>\n",
       "      <td>1.22</td>\n",
       "      <td>High</td>\n",
       "      <td>Millennial Buyers</td>\n",
       "      <td>Suburban, Transport</td>\n",
       "      <td>586469</td>\n",
       "      <td>2496</td>\n",
       "      <td>234.963542</td>\n",
       "      <td>3108.984009</td>\n",
       "      <td>0.0</td>\n",
       "    </tr>\n",
       "    <tr>\n",
       "      <th>1</th>\n",
       "      <td>2010-01-02</td>\n",
       "      <td>Colorado</td>\n",
       "      <td>190652</td>\n",
       "      <td>147075</td>\n",
       "      <td>Abundant</td>\n",
       "      <td>4.81</td>\n",
       "      <td>Moderate</td>\n",
       "      <td>0.56</td>\n",
       "      <td>Low</td>\n",
       "      <td>Millennial Buyers</td>\n",
       "      <td>Urban, Good Schools</td>\n",
       "      <td>689121</td>\n",
       "      <td>1779</td>\n",
       "      <td>387.364250</td>\n",
       "      <td>3619.745695</td>\n",
       "      <td>0.0</td>\n",
       "    </tr>\n",
       "    <tr>\n",
       "      <th>4994</th>\n",
       "      <td>2010-01-02</td>\n",
       "      <td>Massachusetts</td>\n",
       "      <td>81954</td>\n",
       "      <td>142750</td>\n",
       "      <td>Limited</td>\n",
       "      <td>3.59</td>\n",
       "      <td>Moderate</td>\n",
       "      <td>1.84</td>\n",
       "      <td>Low</td>\n",
       "      <td>Millennial Buyers</td>\n",
       "      <td>Urban, Good Schools</td>\n",
       "      <td>273629</td>\n",
       "      <td>3292</td>\n",
       "      <td>83.119380</td>\n",
       "      <td>1242.504458</td>\n",
       "      <td>0.0</td>\n",
       "    </tr>\n",
       "    <tr>\n",
       "      <th>2</th>\n",
       "      <td>2010-01-03</td>\n",
       "      <td>Maine</td>\n",
       "      <td>148790</td>\n",
       "      <td>120236</td>\n",
       "      <td>Abundant</td>\n",
       "      <td>5.60</td>\n",
       "      <td>Strong</td>\n",
       "      <td>0.79</td>\n",
       "      <td>High</td>\n",
       "      <td>Millennial Buyers</td>\n",
       "      <td>Urban, Good Schools</td>\n",
       "      <td>481104</td>\n",
       "      <td>2226</td>\n",
       "      <td>216.129380</td>\n",
       "      <td>2761.916939</td>\n",
       "      <td>0.0</td>\n",
       "    </tr>\n",
       "  </tbody>\n",
       "</table>\n",
       "</div>"
      ],
      "text/plain": [
       "           Date          State  Housing Inventory  Construction Costs  \\\n",
       "0    2010-01-01        Georgia             131832              104114   \n",
       "4993 2010-01-01   Rhode Island             159091              142118   \n",
       "1    2010-01-02       Colorado             190652              147075   \n",
       "4994 2010-01-02  Massachusetts              81954              142750   \n",
       "2    2010-01-03          Maine             148790              120236   \n",
       "\n",
       "     Land Availability  Interest Rates Economic Conditions  Population Growth  \\\n",
       "0             Abundant            3.29                Weak               1.05   \n",
       "4993          Abundant            4.89                Weak               1.22   \n",
       "1             Abundant            4.81            Moderate               0.56   \n",
       "4994           Limited            3.59            Moderate               1.84   \n",
       "2             Abundant            5.60              Strong               0.79   \n",
       "\n",
       "     Consumer Confidence Demographic Trends Location & Amenities  \\\n",
       "0                    Low  Millennial Buyers  Urban, Good Schools   \n",
       "4993                High  Millennial Buyers  Suburban, Transport   \n",
       "1                    Low  Millennial Buyers  Urban, Good Schools   \n",
       "4994                 Low  Millennial Buyers  Urban, Good Schools   \n",
       "2                   High  Millennial Buyers  Urban, Good Schools   \n",
       "\n",
       "      House Price ($)  House Area (sqft)  Price per Sqft  \\\n",
       "0              244358               2763       88.439377   \n",
       "4993           586469               2496      234.963542   \n",
       "1              689121               1779      387.364250   \n",
       "4994           273629               3292       83.119380   \n",
       "2              481104               2226      216.129380   \n",
       "\n",
       "      Monthly Mortgage Payment  Yearly Growth Rate  \n",
       "0                  1068.833336                 0.0  \n",
       "4993               3108.984009                 0.0  \n",
       "1                  3619.745695                 0.0  \n",
       "4994               1242.504458                 0.0  \n",
       "2                  2761.916939                 0.0  "
      ]
     },
     "execution_count": 27,
     "metadata": {},
     "output_type": "execute_result"
    }
   ],
   "source": [
    "df.head()"
   ]
  },
  {
   "cell_type": "code",
   "execution_count": null,
   "metadata": {},
   "outputs": [],
   "source": []
  },
  {
   "cell_type": "code",
   "execution_count": null,
   "metadata": {},
   "outputs": [
    {
     "data": {
      "image/png": "[encoded data removed]",
      "text/plain": [
       "<Figure size 1200x600 with 1 Axes>"
      ]
     },
     "metadata": {},
     "output_type": "display_data"
    }
   ],
   "source": [
    "import matplotlib.pyplot as plt\n",
    "import pandas as pd\n",
    "\n",
    "# Assuming you have a DataFrame 'df' with 'Date' and 'House Price ($)' columns\n",
    "# Make sure to sort your DataFrame by 'Date' if it's not already sorted\n",
    "\n",
    "# Convert 'Date' to a datetime object and set it as the index\n",
    "df['Date'] = pd.to_datetime(df['Date'])\n",
    "df = df.set_index('Date')\n",
    "\n",
    "# Initialize lists to store years and corresponding growth rates\n",
    "years = []\n",
    "growth_rates = []\n",
    "\n",
    "# Iterate through each year to calculate yearly growth rates\n",
    "for year in range(df.index.min().year + 1, df.index.max().year + 1):\n",
    "    start_date = pd.Timestamp(year, 1, 1)\n",
    "    end_date = pd.Timestamp(year + 1, 1, 1)\n",
    "    \n",
    "    # Filter data for the current year\n",
    "    yearly_data = df[(df.index >= start_date) & (df.index < end_date)]\n",
    "    \n",
    "    # Calculate the yearly growth rate and append to lists\n",
    "    if len(yearly_data) > 1:\n",
    "        yearly_growth = (yearly_data['House Price ($)'].iloc[-1] - yearly_data['House Price ($)'].iloc[0]) / yearly_data['House Price ($)'].iloc[0] * 100\n",
    "        years.append(year)\n",
    "        growth_rates.append(yearly_growth)\n",
    "\n",
    "# Create a DataFrame for the calculated growth rates\n",
    "yearly_growth_df = pd.DataFrame({'Year': years, 'Yearly Growth Rate': growth_rates})\n",
    "\n",
    "# Plot the yearly growth rates\n",
    "plt.figure(figsize=(12, 6))\n",
    "plt.plot(yearly_growth_df['Year'], yearly_growth_df['Yearly Growth Rate'], marker='o', linestyle='-')\n",
    "plt.title('Yearly Growth Rate of House Prices')\n",
    "plt.xlabel('Year')\n",
    "plt.ylabel('Yearly Growth Rate (%)')\n",
    "plt.grid(True)\n",
    "\n",
    "# Show the plot\n",
    "plt.show()\n"
   ]
  },
  {
   "cell_type": "code",
   "execution_count": null,
   "metadata": {},
   "outputs": [],
   "source": []
  }
 ],
 "metadata": {
  "kernelspec": {
   "display_name": "Python 3",
   "language": "python",
   "name": "python3"
  },
  "language_info": {
   "codemirror_mode": {
    "name": "ipython",
    "version": 3
   },
   "file_extension": ".py",
   "mimetype": "text/x-python",
   "name": "python",
   "nbconvert_exporter": "python",
   "pygments_lexer": "ipython3",
   "version": "3.9.17"
  },
  "orig_nbformat": 4
 },
 "nbformat": 4,
 "nbformat_minor": 2
}
